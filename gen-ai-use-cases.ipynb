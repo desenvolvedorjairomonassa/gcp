{
  "cells": [
    {
      "cell_type": "code",
      "id": "F3iTrAhH6MHvbui03OwFTzaz",
      "metadata": {
        "tags": [],
        "id": "F3iTrAhH6MHvbui03OwFTzaz",
        "executionInfo": {
          "status": "ok",
          "timestamp": 1729993399306,
          "user_tz": 180,
          "elapsed": 4998,
          "user": {
            "displayName": "",
            "userId": ""
          }
        }
      },
      "source": [
        "# install sdk for use gimini\n",
        "%pip install --upgrade --quiet google-cloud-aiplatform"
      ],
      "execution_count": 1,
      "outputs": []
    },
    {
      "cell_type": "code",
      "source": [
        "# import library\n",
        "from inspect import cleandoc\n",
        "from IPython.display import display, Markdown\n",
        "\n",
        "import vertexai\n",
        "from vertexai.generative_models import GenerativeModel, GenerationConfig"
      ],
      "metadata": {
        "id": "3Cj3xdwppLSA",
        "executionInfo": {
          "status": "ok",
          "timestamp": 1729993439880,
          "user_tz": 180,
          "elapsed": 8106,
          "user": {
            "displayName": "",
            "userId": ""
          }
        }
      },
      "id": "3Cj3xdwppLSA",
      "execution_count": 2,
      "outputs": []
    },
    {
      "cell_type": "code",
      "source": [
        "# get project by CLI\n",
        "PROJECT = !gcloud config get-value project\n",
        "PROJECT_ID = PROJECT[0]\n",
        "REGION = \"us-east1\"\n",
        "# start vertex\n",
        "vertexai.init(project=PROJECT_ID, location=REGION)"
      ],
      "metadata": {
        "id": "64zjJhd2pUR_",
        "executionInfo": {
          "status": "ok",
          "timestamp": 1729993522245,
          "user_tz": 180,
          "elapsed": 1915,
          "user": {
            "displayName": "",
            "userId": ""
          }
        }
      },
      "id": "64zjJhd2pUR_",
      "execution_count": 3,
      "outputs": []
    },
    {
      "cell_type": "code",
      "source": [
        "# select the model\n",
        "model = GenerativeModel(\"gemini-pro\")"
      ],
      "metadata": {
        "id": "D05wLVRNpkqA",
        "executionInfo": {
          "status": "ok",
          "timestamp": 1729993536515,
          "user_tz": 180,
          "elapsed": 553,
          "user": {
            "displayName": "",
            "userId": ""
          }
        }
      },
      "id": "D05wLVRNpkqA",
      "execution_count": 4,
      "outputs": []
    },
    {
      "cell_type": "code",
      "source": [
        "creative_gen_config = GenerationConfig(temperature=1, top_p=0.8)"
      ],
      "metadata": {
        "id": "SQz8RL4UrUsf",
        "executionInfo": {
          "status": "ok",
          "timestamp": 1729993991745,
          "user_tz": 180,
          "elapsed": 3,
          "user": {
            "displayName": "",
            "userId": ""
          }
        }
      },
      "id": "SQz8RL4UrUsf",
      "execution_count": 5,
      "outputs": []
    },
    {
      "cell_type": "code",
      "source": [
        "prompt = \"Give some ideas for using LLM for create startup?\"\n",
        "\n",
        "response = model.generate_content(prompt,\n",
        "                                  generation_config=creative_gen_config)\n",
        "print(response.text)"
      ],
      "metadata": {
        "colab": {
          "base_uri": "https://localhost:8080/"
        },
        "id": "bm9SCqgsrXmA",
        "executionInfo": {
          "status": "ok",
          "timestamp": 1729994046283,
          "user_tz": 180,
          "elapsed": 7863,
          "user": {
            "displayName": "",
            "userId": ""
          }
        },
        "outputId": "bd38b387-3468-4fb6-af9d-d4f1feaf70e5"
      },
      "id": "bm9SCqgsrXmA",
      "execution_count": 6,
      "outputs": [
        {
          "output_type": "stream",
          "name": "stdout",
          "text": [
            "##  Ideas for Using LLMs in Startup Creation\n",
            "\n",
            "LLMs are powerful tools with the potential to disrupt various industries, including the startup ecosystem. Here are some ideas for how you can leverage LLMs to create a successful startup:\n",
            "\n",
            "**Product Development:**\n",
            "\n",
            "* **Develop AI-powered solutions:** LLMs can be used to create chatbots, virtual assistants, and other AI-powered solutions for various industries. \n",
            "* **Generate creative content:** LLMs can generate text, code, and even images, which can be used to create marketing materials, product descriptions, and even design prototypes.\n",
            "* **Personalize user experiences:** LLMs can analyze user data and provide personalized recommendations, content, and experiences.\n",
            "* **Automate tasks:** LLMs can automate repetitive tasks, such as data entry, customer service, and content creation.\n",
            "\n",
            "**Market Research and Analysis:**\n",
            "\n",
            "* **Analyze market trends:** LLMs can analyze large amounts of data to identify market trends and opportunities.\n",
            "* **Target potential customers:** LLMs can help you identify and target potential customers with relevant messaging and content.\n",
            "* **Competitive analysis:** LLMs can analyze your competitors' products and strategies to identify their strengths and weaknesses.\n",
            "\n",
            "**Fundraising and Investment:**\n",
            "\n",
            "* **Generate pitch decks and presentations:** LLMs can help you create effective pitch decks and presentations to attract investors.\n",
            "* **Analyze investment opportunities:** LLMs can analyze investment data to identify promising opportunities.\n",
            "* **Develop financial models:** LLMs can help you develop accurate financial models to predict your future growth and profitability.\n",
            "\n",
            "**Here are some additional considerations for using LLMs in startup creation:**\n",
            "\n",
            "* **Data security and privacy:**  Ensure that you are using LLMs ethically and responsibly, respecting data security and privacy regulations.\n",
            "* **Human oversight:** LLMs are powerful tools, but they should not be used to replace human judgment and decision-making.\n",
            "* **Bias and fairness:** Be aware of potential biases in LLMs and take steps to mitigate them.\n",
            "* **Technical expertise:** You will need the technical expertise to implement and use LLMs effectively.\n",
            "\n",
            "**Resources to get started:**\n",
            "\n",
            "* **Hugging Face:** https://huggingface.co/\n",
            "* **OpenAI:** https://openai.com/\n",
            "* **Google AI:** https://ai.google/\n",
            "* **Cohere:** https://cohere.ai/\n",
            "\n",
            "**Remember, these are just a few ideas to get you started. The possibilities for using LLMs in startup creation are endless, so be creative and explore your options!**\n"
          ]
        }
      ]
    },
    {
      "cell_type": "code",
      "source": [
        "prompt = \"Provide ten interview questions for the role of prompt engineer.\"\n",
        "\n",
        "response = model.generate_content(prompt,\n",
        "                                  generation_config=creative_gen_config)\n",
        "print(response.text)"
      ],
      "metadata": {
        "id": "7AjtmWdcrl_-"
      },
      "id": "7AjtmWdcrl_-",
      "execution_count": null,
      "outputs": []
    },
    {
      "cell_type": "code",
      "source": [
        "predictable_gen_config = GenerationConfig(temperature=0.1, top_p=0.1)"
      ],
      "metadata": {
        "id": "donHoIL1uJ6Z",
        "executionInfo": {
          "status": "ok",
          "timestamp": 1729994730424,
          "user_tz": 180,
          "elapsed": 3,
          "user": {
            "displayName": "",
            "userId": ""
          }
        }
      },
      "id": "donHoIL1uJ6Z",
      "execution_count": 7,
      "outputs": []
    },
    {
      "cell_type": "code",
      "source": [
        "prompt = \"\"\"\n",
        "Given a user's input, classify their intent, such as \"finding information\", \"making a reservation\", or \"placing an order\". \\n\n",
        "user input: Hi, can you please book a table for two at Juan for May 1?\n",
        "\"\"\"\n",
        "\n",
        "response = model.generate_content(\n",
        "    prompt, generation_config=predictable_gen_config\n",
        ")\n",
        "print(response.text)"
      ],
      "metadata": {
        "colab": {
          "base_uri": "https://localhost:8080/"
        },
        "id": "eQR2yGJhuLcf",
        "executionInfo": {
          "status": "ok",
          "timestamp": 1729994787677,
          "user_tz": 180,
          "elapsed": 1402,
          "user": {
            "displayName": "",
            "userId": ""
          }
        },
        "outputId": "af89b4cf-e0c7-4dda-8459-fd4460fe223a"
      },
      "id": "eQR2yGJhuLcf",
      "execution_count": 8,
      "outputs": [
        {
          "output_type": "stream",
          "name": "stdout",
          "text": [
            "## Intent: Making a reservation\n",
            "\n",
            "The user is requesting to book a table for two at a restaurant called Juan for May 1st. \n",
            "\n"
          ]
        }
      ]
    },
    {
      "cell_type": "code",
      "source": [
        "prompt = \"\"\"\n",
        "What is the topic for a given news headline? \\n\n",
        "- business \\n\n",
        "- entertainment \\n\n",
        "- health \\n\n",
        "- sports \\n\n",
        "- technology \\n\\n\n",
        "\n",
        "Text: Pixel 7 Pro Expert Hands On Review. \\n\n",
        "The answer is: technology \\n\n",
        "\n",
        "Text: Quit smoking? \\n\n",
        "The answer is: health \\n\n",
        "\n",
        "Text: Birdies or bogeys? Top 5 tips to hit under par \\n\n",
        "The answer is: sports \\n\n",
        "\n",
        "Text: Relief from local minimum-wage hike looking more remote \\n\n",
        "The answer is: business \\n\n",
        "\n",
        "Text: You won't guess who just arrived in Bari, Italy for the movie premiere. \\n\n",
        "The answer is:\n",
        "\"\"\"\n",
        "\n",
        "response = model.generate_content(\n",
        "    prompt, generation_config=predictable_gen_config\n",
        ")\n",
        "print(response.text)"
      ],
      "metadata": {
        "colab": {
          "base_uri": "https://localhost:8080/"
        },
        "id": "X5eZvLdZuZvG",
        "executionInfo": {
          "status": "ok",
          "timestamp": 1729994804771,
          "user_tz": 180,
          "elapsed": 891,
          "user": {
            "displayName": "",
            "userId": ""
          }
        },
        "outputId": "7a12a481-704f-4585-abab-0521dc8886cb"
      },
      "id": "X5eZvLdZuZvG",
      "execution_count": 9,
      "outputs": [
        {
          "output_type": "stream",
          "name": "stdout",
          "text": [
            "entertainment \n",
            "\n"
          ]
        }
      ]
    },
    {
      "cell_type": "code",
      "source": [
        "import pandas as pd\n",
        "from sklearn.metrics import classification_report\n",
        "\n",
        "review_data_df = pd.DataFrame(\n",
        "    {\n",
        "        \"review\": [\n",
        "            \"i love this product. it does have everything i am looking for!\",\n",
        "            \"all i can say is that you will be happy after buying this product\",\n",
        "            \"its way too expensive and not worth the price\",\n",
        "            \"i am feeling okay. its neither good nor too bad.\",\n",
        "        ],\n",
        "        \"sentiment_groundtruth\": [\"positive\", \"positive\", \"negative\", \"neutral\"],\n",
        "    }\n",
        ")\n",
        "\n",
        "review_data_df"
      ],
      "metadata": {
        "colab": {
          "base_uri": "https://localhost:8080/",
          "height": 175
        },
        "id": "cQeyyIcBugQk",
        "executionInfo": {
          "status": "ok",
          "timestamp": 1729994825832,
          "user_tz": 180,
          "elapsed": 3662,
          "user": {
            "displayName": "",
            "userId": ""
          }
        },
        "outputId": "766dcfd9-c1e7-41e3-c455-2e6a7b2ed605"
      },
      "id": "cQeyyIcBugQk",
      "execution_count": 10,
      "outputs": [
        {
          "output_type": "execute_result",
          "data": {
            "text/plain": [
              "                                              review sentiment_groundtruth\n",
              "0  i love this product. it does have everything i...              positive\n",
              "1  all i can say is that you will be happy after ...              positive\n",
              "2      its way too expensive and not worth the price              negative\n",
              "3   i am feeling okay. its neither good nor too bad.               neutral"
            ],
            "text/html": [
              "\n",
              "  <div id=\"df-65819513-291b-4f34-b1b0-151230f38852\" class=\"colab-df-container\">\n",
              "    <div>\n",
              "<style scoped>\n",
              "    .dataframe tbody tr th:only-of-type {\n",
              "        vertical-align: middle;\n",
              "    }\n",
              "\n",
              "    .dataframe tbody tr th {\n",
              "        vertical-align: top;\n",
              "    }\n",
              "\n",
              "    .dataframe thead th {\n",
              "        text-align: right;\n",
              "    }\n",
              "</style>\n",
              "<table border=\"1\" class=\"dataframe\">\n",
              "  <thead>\n",
              "    <tr style=\"text-align: right;\">\n",
              "      <th></th>\n",
              "      <th>review</th>\n",
              "      <th>sentiment_groundtruth</th>\n",
              "    </tr>\n",
              "  </thead>\n",
              "  <tbody>\n",
              "    <tr>\n",
              "      <th>0</th>\n",
              "      <td>i love this product. it does have everything i...</td>\n",
              "      <td>positive</td>\n",
              "    </tr>\n",
              "    <tr>\n",
              "      <th>1</th>\n",
              "      <td>all i can say is that you will be happy after ...</td>\n",
              "      <td>positive</td>\n",
              "    </tr>\n",
              "    <tr>\n",
              "      <th>2</th>\n",
              "      <td>its way too expensive and not worth the price</td>\n",
              "      <td>negative</td>\n",
              "    </tr>\n",
              "    <tr>\n",
              "      <th>3</th>\n",
              "      <td>i am feeling okay. its neither good nor too bad.</td>\n",
              "      <td>neutral</td>\n",
              "    </tr>\n",
              "  </tbody>\n",
              "</table>\n",
              "</div>\n",
              "    <div class=\"colab-df-buttons\">\n",
              "\n",
              "  <div class=\"colab-df-container\">\n",
              "    <button class=\"colab-df-convert\" onclick=\"convertToInteractive('df-65819513-291b-4f34-b1b0-151230f38852')\"\n",
              "            title=\"Convert this dataframe to an interactive table.\"\n",
              "            style=\"display:none;\">\n",
              "\n",
              "  <svg xmlns=\"http://www.w3.org/2000/svg\" height=\"24px\" viewBox=\"0 -960 960 960\">\n",
              "    <path d=\"M120-120v-720h720v720H120Zm60-500h600v-160H180v160Zm220 220h160v-160H400v160Zm0 220h160v-160H400v160ZM180-400h160v-160H180v160Zm440 0h160v-160H620v160ZM180-180h160v-160H180v160Zm440 0h160v-160H620v160Z\"/>\n",
              "  </svg>\n",
              "    </button>\n",
              "\n",
              "  <style>\n",
              "    .colab-df-container {\n",
              "      display:flex;\n",
              "      gap: 12px;\n",
              "    }\n",
              "\n",
              "    .colab-df-convert {\n",
              "      background-color: #E8F0FE;\n",
              "      border: none;\n",
              "      border-radius: 50%;\n",
              "      cursor: pointer;\n",
              "      display: none;\n",
              "      fill: #1967D2;\n",
              "      height: 32px;\n",
              "      padding: 0 0 0 0;\n",
              "      width: 32px;\n",
              "    }\n",
              "\n",
              "    .colab-df-convert:hover {\n",
              "      background-color: #E2EBFA;\n",
              "      box-shadow: 0px 1px 2px rgba(60, 64, 67, 0.3), 0px 1px 3px 1px rgba(60, 64, 67, 0.15);\n",
              "      fill: #174EA6;\n",
              "    }\n",
              "\n",
              "    .colab-df-buttons div {\n",
              "      margin-bottom: 4px;\n",
              "    }\n",
              "\n",
              "    [theme=dark] .colab-df-convert {\n",
              "      background-color: #3B4455;\n",
              "      fill: #D2E3FC;\n",
              "    }\n",
              "\n",
              "    [theme=dark] .colab-df-convert:hover {\n",
              "      background-color: #434B5C;\n",
              "      box-shadow: 0px 1px 3px 1px rgba(0, 0, 0, 0.15);\n",
              "      filter: drop-shadow(0px 1px 2px rgba(0, 0, 0, 0.3));\n",
              "      fill: #FFFFFF;\n",
              "    }\n",
              "  </style>\n",
              "\n",
              "    <script>\n",
              "      const buttonEl =\n",
              "        document.querySelector('#df-65819513-291b-4f34-b1b0-151230f38852 button.colab-df-convert');\n",
              "      buttonEl.style.display =\n",
              "        google.colab.kernel.accessAllowed ? 'block' : 'none';\n",
              "\n",
              "      async function convertToInteractive(key) {\n",
              "        const element = document.querySelector('#df-65819513-291b-4f34-b1b0-151230f38852');\n",
              "        const dataTable =\n",
              "          await google.colab.kernel.invokeFunction('convertToInteractive',\n",
              "                                                    [key], {});\n",
              "        if (!dataTable) return;\n",
              "\n",
              "        const docLinkHtml = 'Like what you see? Visit the ' +\n",
              "          '<a target=\"_blank\" href=https://colab.research.google.com/notebooks/data_table.ipynb>data table notebook</a>'\n",
              "          + ' to learn more about interactive tables.';\n",
              "        element.innerHTML = '';\n",
              "        dataTable['output_type'] = 'display_data';\n",
              "        await google.colab.output.renderOutput(dataTable, element);\n",
              "        const docLink = document.createElement('div');\n",
              "        docLink.innerHTML = docLinkHtml;\n",
              "        element.appendChild(docLink);\n",
              "      }\n",
              "    </script>\n",
              "  </div>\n",
              "\n",
              "\n",
              "<div id=\"df-feec504a-a1e7-4686-8eef-e1e502ee13b1\">\n",
              "  <button class=\"colab-df-quickchart\" onclick=\"quickchart('df-feec504a-a1e7-4686-8eef-e1e502ee13b1')\"\n",
              "            title=\"Suggest charts\"\n",
              "            style=\"display:none;\">\n",
              "\n",
              "<svg xmlns=\"http://www.w3.org/2000/svg\" height=\"24px\"viewBox=\"0 0 24 24\"\n",
              "     width=\"24px\">\n",
              "    <g>\n",
              "        <path d=\"M19 3H5c-1.1 0-2 .9-2 2v14c0 1.1.9 2 2 2h14c1.1 0 2-.9 2-2V5c0-1.1-.9-2-2-2zM9 17H7v-7h2v7zm4 0h-2V7h2v10zm4 0h-2v-4h2v4z\"/>\n",
              "    </g>\n",
              "</svg>\n",
              "  </button>\n",
              "\n",
              "<style>\n",
              "  .colab-df-quickchart {\n",
              "      --bg-color: #E8F0FE;\n",
              "      --fill-color: #1967D2;\n",
              "      --hover-bg-color: #E2EBFA;\n",
              "      --hover-fill-color: #174EA6;\n",
              "      --disabled-fill-color: #AAA;\n",
              "      --disabled-bg-color: #DDD;\n",
              "  }\n",
              "\n",
              "  [theme=dark] .colab-df-quickchart {\n",
              "      --bg-color: #3B4455;\n",
              "      --fill-color: #D2E3FC;\n",
              "      --hover-bg-color: #434B5C;\n",
              "      --hover-fill-color: #FFFFFF;\n",
              "      --disabled-bg-color: #3B4455;\n",
              "      --disabled-fill-color: #666;\n",
              "  }\n",
              "\n",
              "  .colab-df-quickchart {\n",
              "    background-color: var(--bg-color);\n",
              "    border: none;\n",
              "    border-radius: 50%;\n",
              "    cursor: pointer;\n",
              "    display: none;\n",
              "    fill: var(--fill-color);\n",
              "    height: 32px;\n",
              "    padding: 0;\n",
              "    width: 32px;\n",
              "  }\n",
              "\n",
              "  .colab-df-quickchart:hover {\n",
              "    background-color: var(--hover-bg-color);\n",
              "    box-shadow: 0 1px 2px rgba(60, 64, 67, 0.3), 0 1px 3px 1px rgba(60, 64, 67, 0.15);\n",
              "    fill: var(--button-hover-fill-color);\n",
              "  }\n",
              "\n",
              "  .colab-df-quickchart-complete:disabled,\n",
              "  .colab-df-quickchart-complete:disabled:hover {\n",
              "    background-color: var(--disabled-bg-color);\n",
              "    fill: var(--disabled-fill-color);\n",
              "    box-shadow: none;\n",
              "  }\n",
              "\n",
              "  .colab-df-spinner {\n",
              "    border: 2px solid var(--fill-color);\n",
              "    border-color: transparent;\n",
              "    border-bottom-color: var(--fill-color);\n",
              "    animation:\n",
              "      spin 1s steps(1) infinite;\n",
              "  }\n",
              "\n",
              "  @keyframes spin {\n",
              "    0% {\n",
              "      border-color: transparent;\n",
              "      border-bottom-color: var(--fill-color);\n",
              "      border-left-color: var(--fill-color);\n",
              "    }\n",
              "    20% {\n",
              "      border-color: transparent;\n",
              "      border-left-color: var(--fill-color);\n",
              "      border-top-color: var(--fill-color);\n",
              "    }\n",
              "    30% {\n",
              "      border-color: transparent;\n",
              "      border-left-color: var(--fill-color);\n",
              "      border-top-color: var(--fill-color);\n",
              "      border-right-color: var(--fill-color);\n",
              "    }\n",
              "    40% {\n",
              "      border-color: transparent;\n",
              "      border-right-color: var(--fill-color);\n",
              "      border-top-color: var(--fill-color);\n",
              "    }\n",
              "    60% {\n",
              "      border-color: transparent;\n",
              "      border-right-color: var(--fill-color);\n",
              "    }\n",
              "    80% {\n",
              "      border-color: transparent;\n",
              "      border-right-color: var(--fill-color);\n",
              "      border-bottom-color: var(--fill-color);\n",
              "    }\n",
              "    90% {\n",
              "      border-color: transparent;\n",
              "      border-bottom-color: var(--fill-color);\n",
              "    }\n",
              "  }\n",
              "</style>\n",
              "\n",
              "  <script>\n",
              "    async function quickchart(key) {\n",
              "      const quickchartButtonEl =\n",
              "        document.querySelector('#' + key + ' button');\n",
              "      quickchartButtonEl.disabled = true;  // To prevent multiple clicks.\n",
              "      quickchartButtonEl.classList.add('colab-df-spinner');\n",
              "      try {\n",
              "        const charts = await google.colab.kernel.invokeFunction(\n",
              "            'suggestCharts', [key], {});\n",
              "      } catch (error) {\n",
              "        console.error('Error during call to suggestCharts:', error);\n",
              "      }\n",
              "      quickchartButtonEl.classList.remove('colab-df-spinner');\n",
              "      quickchartButtonEl.classList.add('colab-df-quickchart-complete');\n",
              "    }\n",
              "    (() => {\n",
              "      let quickchartButtonEl =\n",
              "        document.querySelector('#df-feec504a-a1e7-4686-8eef-e1e502ee13b1 button');\n",
              "      quickchartButtonEl.style.display =\n",
              "        google.colab.kernel.accessAllowed ? 'block' : 'none';\n",
              "    })();\n",
              "  </script>\n",
              "</div>\n",
              "    </div>\n",
              "  </div>\n"
            ]
          },
          "metadata": {},
          "execution_count": 10
        }
      ]
    },
    {
      "cell_type": "code",
      "source": [
        "def get_sentiment(row):\n",
        "    prompt = f\"\"\"Classify the sentiment of the following review as \"positive\", \"neutral\" or \"negative\". Return only the classification.\n",
        "                review: {row}\n",
        "              \"\"\"\n",
        "    response = model.generate_content(\n",
        "        contents=prompt, generation_config=predictable_gen_config\n",
        "    ).text\n",
        "    return response\n",
        "\n",
        "\n",
        "review_data_df[\"sentiment_prediction\"] = review_data_df[\"review\"].apply(get_sentiment)\n",
        "review_data_df"
      ],
      "metadata": {
        "colab": {
          "base_uri": "https://localhost:8080/",
          "height": 175
        },
        "id": "qFOJvrELuqlP",
        "executionInfo": {
          "status": "ok",
          "timestamp": 1729994884655,
          "user_tz": 180,
          "elapsed": 2320,
          "user": {
            "displayName": "",
            "userId": ""
          }
        },
        "outputId": "7c9c848f-0540-46cc-c9a1-141d95cc6f51"
      },
      "id": "qFOJvrELuqlP",
      "execution_count": 12,
      "outputs": [
        {
          "output_type": "execute_result",
          "data": {
            "text/plain": [
              "                                              review sentiment_groundtruth  \\\n",
              "0  i love this product. it does have everything i...              positive   \n",
              "1  all i can say is that you will be happy after ...              positive   \n",
              "2      its way too expensive and not worth the price              negative   \n",
              "3   i am feeling okay. its neither good nor too bad.               neutral   \n",
              "\n",
              "  sentiment_prediction  \n",
              "0             positive  \n",
              "1             positive  \n",
              "2             negative  \n",
              "3              neutral  "
            ],
            "text/html": [
              "\n",
              "  <div id=\"df-7f4f95ad-59d3-4e28-a45a-b72695e4aa3c\" class=\"colab-df-container\">\n",
              "    <div>\n",
              "<style scoped>\n",
              "    .dataframe tbody tr th:only-of-type {\n",
              "        vertical-align: middle;\n",
              "    }\n",
              "\n",
              "    .dataframe tbody tr th {\n",
              "        vertical-align: top;\n",
              "    }\n",
              "\n",
              "    .dataframe thead th {\n",
              "        text-align: right;\n",
              "    }\n",
              "</style>\n",
              "<table border=\"1\" class=\"dataframe\">\n",
              "  <thead>\n",
              "    <tr style=\"text-align: right;\">\n",
              "      <th></th>\n",
              "      <th>review</th>\n",
              "      <th>sentiment_groundtruth</th>\n",
              "      <th>sentiment_prediction</th>\n",
              "    </tr>\n",
              "  </thead>\n",
              "  <tbody>\n",
              "    <tr>\n",
              "      <th>0</th>\n",
              "      <td>i love this product. it does have everything i...</td>\n",
              "      <td>positive</td>\n",
              "      <td>positive</td>\n",
              "    </tr>\n",
              "    <tr>\n",
              "      <th>1</th>\n",
              "      <td>all i can say is that you will be happy after ...</td>\n",
              "      <td>positive</td>\n",
              "      <td>positive</td>\n",
              "    </tr>\n",
              "    <tr>\n",
              "      <th>2</th>\n",
              "      <td>its way too expensive and not worth the price</td>\n",
              "      <td>negative</td>\n",
              "      <td>negative</td>\n",
              "    </tr>\n",
              "    <tr>\n",
              "      <th>3</th>\n",
              "      <td>i am feeling okay. its neither good nor too bad.</td>\n",
              "      <td>neutral</td>\n",
              "      <td>neutral</td>\n",
              "    </tr>\n",
              "  </tbody>\n",
              "</table>\n",
              "</div>\n",
              "    <div class=\"colab-df-buttons\">\n",
              "\n",
              "  <div class=\"colab-df-container\">\n",
              "    <button class=\"colab-df-convert\" onclick=\"convertToInteractive('df-7f4f95ad-59d3-4e28-a45a-b72695e4aa3c')\"\n",
              "            title=\"Convert this dataframe to an interactive table.\"\n",
              "            style=\"display:none;\">\n",
              "\n",
              "  <svg xmlns=\"http://www.w3.org/2000/svg\" height=\"24px\" viewBox=\"0 -960 960 960\">\n",
              "    <path d=\"M120-120v-720h720v720H120Zm60-500h600v-160H180v160Zm220 220h160v-160H400v160Zm0 220h160v-160H400v160ZM180-400h160v-160H180v160Zm440 0h160v-160H620v160ZM180-180h160v-160H180v160Zm440 0h160v-160H620v160Z\"/>\n",
              "  </svg>\n",
              "    </button>\n",
              "\n",
              "  <style>\n",
              "    .colab-df-container {\n",
              "      display:flex;\n",
              "      gap: 12px;\n",
              "    }\n",
              "\n",
              "    .colab-df-convert {\n",
              "      background-color: #E8F0FE;\n",
              "      border: none;\n",
              "      border-radius: 50%;\n",
              "      cursor: pointer;\n",
              "      display: none;\n",
              "      fill: #1967D2;\n",
              "      height: 32px;\n",
              "      padding: 0 0 0 0;\n",
              "      width: 32px;\n",
              "    }\n",
              "\n",
              "    .colab-df-convert:hover {\n",
              "      background-color: #E2EBFA;\n",
              "      box-shadow: 0px 1px 2px rgba(60, 64, 67, 0.3), 0px 1px 3px 1px rgba(60, 64, 67, 0.15);\n",
              "      fill: #174EA6;\n",
              "    }\n",
              "\n",
              "    .colab-df-buttons div {\n",
              "      margin-bottom: 4px;\n",
              "    }\n",
              "\n",
              "    [theme=dark] .colab-df-convert {\n",
              "      background-color: #3B4455;\n",
              "      fill: #D2E3FC;\n",
              "    }\n",
              "\n",
              "    [theme=dark] .colab-df-convert:hover {\n",
              "      background-color: #434B5C;\n",
              "      box-shadow: 0px 1px 3px 1px rgba(0, 0, 0, 0.15);\n",
              "      filter: drop-shadow(0px 1px 2px rgba(0, 0, 0, 0.3));\n",
              "      fill: #FFFFFF;\n",
              "    }\n",
              "  </style>\n",
              "\n",
              "    <script>\n",
              "      const buttonEl =\n",
              "        document.querySelector('#df-7f4f95ad-59d3-4e28-a45a-b72695e4aa3c button.colab-df-convert');\n",
              "      buttonEl.style.display =\n",
              "        google.colab.kernel.accessAllowed ? 'block' : 'none';\n",
              "\n",
              "      async function convertToInteractive(key) {\n",
              "        const element = document.querySelector('#df-7f4f95ad-59d3-4e28-a45a-b72695e4aa3c');\n",
              "        const dataTable =\n",
              "          await google.colab.kernel.invokeFunction('convertToInteractive',\n",
              "                                                    [key], {});\n",
              "        if (!dataTable) return;\n",
              "\n",
              "        const docLinkHtml = 'Like what you see? Visit the ' +\n",
              "          '<a target=\"_blank\" href=https://colab.research.google.com/notebooks/data_table.ipynb>data table notebook</a>'\n",
              "          + ' to learn more about interactive tables.';\n",
              "        element.innerHTML = '';\n",
              "        dataTable['output_type'] = 'display_data';\n",
              "        await google.colab.output.renderOutput(dataTable, element);\n",
              "        const docLink = document.createElement('div');\n",
              "        docLink.innerHTML = docLinkHtml;\n",
              "        element.appendChild(docLink);\n",
              "      }\n",
              "    </script>\n",
              "  </div>\n",
              "\n",
              "\n",
              "<div id=\"df-f033edad-9a94-4df5-8ec9-c3bae23d29c0\">\n",
              "  <button class=\"colab-df-quickchart\" onclick=\"quickchart('df-f033edad-9a94-4df5-8ec9-c3bae23d29c0')\"\n",
              "            title=\"Suggest charts\"\n",
              "            style=\"display:none;\">\n",
              "\n",
              "<svg xmlns=\"http://www.w3.org/2000/svg\" height=\"24px\"viewBox=\"0 0 24 24\"\n",
              "     width=\"24px\">\n",
              "    <g>\n",
              "        <path d=\"M19 3H5c-1.1 0-2 .9-2 2v14c0 1.1.9 2 2 2h14c1.1 0 2-.9 2-2V5c0-1.1-.9-2-2-2zM9 17H7v-7h2v7zm4 0h-2V7h2v10zm4 0h-2v-4h2v4z\"/>\n",
              "    </g>\n",
              "</svg>\n",
              "  </button>\n",
              "\n",
              "<style>\n",
              "  .colab-df-quickchart {\n",
              "      --bg-color: #E8F0FE;\n",
              "      --fill-color: #1967D2;\n",
              "      --hover-bg-color: #E2EBFA;\n",
              "      --hover-fill-color: #174EA6;\n",
              "      --disabled-fill-color: #AAA;\n",
              "      --disabled-bg-color: #DDD;\n",
              "  }\n",
              "\n",
              "  [theme=dark] .colab-df-quickchart {\n",
              "      --bg-color: #3B4455;\n",
              "      --fill-color: #D2E3FC;\n",
              "      --hover-bg-color: #434B5C;\n",
              "      --hover-fill-color: #FFFFFF;\n",
              "      --disabled-bg-color: #3B4455;\n",
              "      --disabled-fill-color: #666;\n",
              "  }\n",
              "\n",
              "  .colab-df-quickchart {\n",
              "    background-color: var(--bg-color);\n",
              "    border: none;\n",
              "    border-radius: 50%;\n",
              "    cursor: pointer;\n",
              "    display: none;\n",
              "    fill: var(--fill-color);\n",
              "    height: 32px;\n",
              "    padding: 0;\n",
              "    width: 32px;\n",
              "  }\n",
              "\n",
              "  .colab-df-quickchart:hover {\n",
              "    background-color: var(--hover-bg-color);\n",
              "    box-shadow: 0 1px 2px rgba(60, 64, 67, 0.3), 0 1px 3px 1px rgba(60, 64, 67, 0.15);\n",
              "    fill: var(--button-hover-fill-color);\n",
              "  }\n",
              "\n",
              "  .colab-df-quickchart-complete:disabled,\n",
              "  .colab-df-quickchart-complete:disabled:hover {\n",
              "    background-color: var(--disabled-bg-color);\n",
              "    fill: var(--disabled-fill-color);\n",
              "    box-shadow: none;\n",
              "  }\n",
              "\n",
              "  .colab-df-spinner {\n",
              "    border: 2px solid var(--fill-color);\n",
              "    border-color: transparent;\n",
              "    border-bottom-color: var(--fill-color);\n",
              "    animation:\n",
              "      spin 1s steps(1) infinite;\n",
              "  }\n",
              "\n",
              "  @keyframes spin {\n",
              "    0% {\n",
              "      border-color: transparent;\n",
              "      border-bottom-color: var(--fill-color);\n",
              "      border-left-color: var(--fill-color);\n",
              "    }\n",
              "    20% {\n",
              "      border-color: transparent;\n",
              "      border-left-color: var(--fill-color);\n",
              "      border-top-color: var(--fill-color);\n",
              "    }\n",
              "    30% {\n",
              "      border-color: transparent;\n",
              "      border-left-color: var(--fill-color);\n",
              "      border-top-color: var(--fill-color);\n",
              "      border-right-color: var(--fill-color);\n",
              "    }\n",
              "    40% {\n",
              "      border-color: transparent;\n",
              "      border-right-color: var(--fill-color);\n",
              "      border-top-color: var(--fill-color);\n",
              "    }\n",
              "    60% {\n",
              "      border-color: transparent;\n",
              "      border-right-color: var(--fill-color);\n",
              "    }\n",
              "    80% {\n",
              "      border-color: transparent;\n",
              "      border-right-color: var(--fill-color);\n",
              "      border-bottom-color: var(--fill-color);\n",
              "    }\n",
              "    90% {\n",
              "      border-color: transparent;\n",
              "      border-bottom-color: var(--fill-color);\n",
              "    }\n",
              "  }\n",
              "</style>\n",
              "\n",
              "  <script>\n",
              "    async function quickchart(key) {\n",
              "      const quickchartButtonEl =\n",
              "        document.querySelector('#' + key + ' button');\n",
              "      quickchartButtonEl.disabled = true;  // To prevent multiple clicks.\n",
              "      quickchartButtonEl.classList.add('colab-df-spinner');\n",
              "      try {\n",
              "        const charts = await google.colab.kernel.invokeFunction(\n",
              "            'suggestCharts', [key], {});\n",
              "      } catch (error) {\n",
              "        console.error('Error during call to suggestCharts:', error);\n",
              "      }\n",
              "      quickchartButtonEl.classList.remove('colab-df-spinner');\n",
              "      quickchartButtonEl.classList.add('colab-df-quickchart-complete');\n",
              "    }\n",
              "    (() => {\n",
              "      let quickchartButtonEl =\n",
              "        document.querySelector('#df-f033edad-9a94-4df5-8ec9-c3bae23d29c0 button');\n",
              "      quickchartButtonEl.style.display =\n",
              "        google.colab.kernel.accessAllowed ? 'block' : 'none';\n",
              "    })();\n",
              "  </script>\n",
              "</div>\n",
              "    </div>\n",
              "  </div>\n"
            ]
          },
          "metadata": {},
          "execution_count": 12
        }
      ]
    },
    {
      "cell_type": "code",
      "source": [
        "report = classification_report(\n",
        "    review_data_df[\"sentiment_groundtruth\"], review_data_df[\"sentiment_prediction\"]\n",
        ")\n",
        "Markdown(report)"
      ],
      "metadata": {
        "colab": {
          "base_uri": "https://localhost:8080/",
          "height": 168
        },
        "id": "ZrwEH4V_utz3",
        "executionInfo": {
          "status": "ok",
          "timestamp": 1729994893190,
          "user_tz": 180,
          "elapsed": 5,
          "user": {
            "displayName": "",
            "userId": ""
          }
        },
        "outputId": "6a128f76-9050-4109-dc7e-1b89afb0c5a8"
      },
      "id": "ZrwEH4V_utz3",
      "execution_count": 13,
      "outputs": [
        {
          "output_type": "execute_result",
          "data": {
            "text/plain": [
              "<IPython.core.display.Markdown object>"
            ],
            "text/markdown": "              precision    recall  f1-score   support\n\n    negative       1.00      1.00      1.00         1\n     neutral       1.00      1.00      1.00         1\n    positive       1.00      1.00      1.00         2\n\n    accuracy                           1.00         4\n   macro avg       1.00      1.00      1.00         4\nweighted avg       1.00      1.00      1.00         4\n"
          },
          "metadata": {},
          "execution_count": 13
        }
      ]
    },
    {
      "cell_type": "code",
      "source": [
        "predictable_gen_config = GenerationConfig(temperature=0.1, top_p=0.1)"
      ],
      "metadata": {
        "id": "cXmfZrwfuyIs",
        "executionInfo": {
          "status": "ok",
          "timestamp": 1729994907898,
          "user_tz": 180,
          "elapsed": 2,
          "user": {
            "displayName": "",
            "userId": ""
          }
        }
      },
      "id": "cXmfZrwfuyIs",
      "execution_count": 14,
      "outputs": []
    },
    {
      "cell_type": "code",
      "source": [
        "text = \"\"\"Alphabet’s (GOOG, GOOGL) Google unit is developing artificial intelligence technology that can take over a user’s internet browser, The Information reported Saturday, citing three people with direct knowledge of the product.\n",
        "\n",
        "According to the report, the technology – named Project Jarvis – would be able to complete tasks such as internet searches, shopping, and booking travel, the people were quoted as saying. \"\"\""
      ],
      "metadata": {
        "id": "P6mEZgScu2pI",
        "executionInfo": {
          "status": "ok",
          "timestamp": 1729995116164,
          "user_tz": 180,
          "elapsed": 3,
          "user": {
            "displayName": "",
            "userId": ""
          }
        }
      },
      "id": "P6mEZgScu2pI",
      "execution_count": 16,
      "outputs": []
    },
    {
      "cell_type": "code",
      "source": [
        "# text summary\n",
        "prompt = f\"\"\"\n",
        "Provide a very short summary, no more than three sentences, for the following article: {text}\n",
        "\n",
        "\"\"\"\n",
        "response = model.generate_content(\n",
        "    prompt, generation_config=predictable_gen_config\n",
        ")\n",
        "print(response.text)"
      ],
      "metadata": {
        "colab": {
          "base_uri": "https://localhost:8080/"
        },
        "id": "655RhrZ-vxzT",
        "executionInfo": {
          "status": "ok",
          "timestamp": 1729995238909,
          "user_tz": 180,
          "elapsed": 1019,
          "user": {
            "displayName": "",
            "userId": ""
          }
        },
        "outputId": "655ff043-8e46-4801-83bb-8a865d26b2cc"
      },
      "id": "655RhrZ-vxzT",
      "execution_count": 17,
      "outputs": [
        {
          "output_type": "stream",
          "name": "stdout",
          "text": [
            "Google is developing an AI technology called Project Jarvis that can take over a user's internet browser and complete tasks such as internet searches, shopping, and booking travel. The technology is still in development and is not yet available to the public. \n",
            "\n"
          ]
        }
      ]
    },
    {
      "cell_type": "code",
      "source": [
        "#text extraction\n",
        "order = \"We need eight grilled cheese sandwiches. Two with swiss cheese, three with muenster, three with cheddar.\"\n",
        "\n",
        "prompt = \"\"\"\n",
        "    Break the customer's order into individual items with keys for the following fields:\n",
        "    - item_name\n",
        "    - cheese_selection\n",
        "\n",
        "    Order:\n",
        "    {order_field}\n",
        "\"\"\".format(order_field=order)\n",
        "\n",
        "response = model.generate_content(\n",
        "    contents=prompt, generation_config=predictable_gen_config\n",
        ")\n",
        "print(response.text)"
      ],
      "metadata": {
        "colab": {
          "base_uri": "https://localhost:8080/"
        },
        "id": "w_Qjbfo4wQ3H",
        "executionInfo": {
          "status": "ok",
          "timestamp": 1729995305057,
          "user_tz": 180,
          "elapsed": 2740,
          "user": {
            "displayName": "",
            "userId": ""
          }
        },
        "outputId": "fd3e2c0b-943c-4610-e176-4df8015d27ea"
      },
      "id": "w_Qjbfo4wQ3H",
      "execution_count": 19,
      "outputs": [
        {
          "output_type": "stream",
          "name": "stdout",
          "text": [
            "```json\n",
            "[\n",
            "  {\n",
            "    \"item_name\": \"Grilled Cheese Sandwich\",\n",
            "    \"cheese_selection\": \"Swiss\"\n",
            "  },\n",
            "  {\n",
            "    \"item_name\": \"Grilled Cheese Sandwich\",\n",
            "    \"cheese_selection\": \"Swiss\"\n",
            "  },\n",
            "  {\n",
            "    \"item_name\": \"Grilled Cheese Sandwich\",\n",
            "    \"cheese_selection\": \"Muenster\"\n",
            "  },\n",
            "  {\n",
            "    \"item_name\": \"Grilled Cheese Sandwich\",\n",
            "    \"cheese_selection\": \"Muenster\"\n",
            "  },\n",
            "  {\n",
            "    \"item_name\": \"Grilled Cheese Sandwich\",\n",
            "    \"cheese_selection\": \"Muenster\"\n",
            "  },\n",
            "  {\n",
            "    \"item_name\": \"Grilled Cheese Sandwich\",\n",
            "    \"cheese_selection\": \"Cheddar\"\n",
            "  },\n",
            "  {\n",
            "    \"item_name\": \"Grilled Cheese Sandwich\",\n",
            "    \"cheese_selection\": \"Cheddar\"\n",
            "  },\n",
            "  {\n",
            "    \"item_name\": \"Grilled Cheese Sandwich\",\n",
            "    \"cheese_selection\": \"Cheddar\"\n",
            "  }\n",
            "]\n",
            "```\n"
          ]
        }
      ]
    },
    {
      "cell_type": "code",
      "source": [
        "prompt = \"\"\"Q: Who was President of the United States in 1955?\n",
        "              Which party did he belong to?\n",
        "            A:\n",
        "        \"\"\"\n",
        "response = model.generate_content(\n",
        "    contents=prompt, generation_config=predictable_gen_config\n",
        ")\n",
        "print(response.text)"
      ],
      "metadata": {
        "colab": {
          "base_uri": "https://localhost:8080/"
        },
        "id": "xIi7DYnRwZfI",
        "executionInfo": {
          "status": "ok",
          "timestamp": 1729995319029,
          "user_tz": 180,
          "elapsed": 899,
          "user": {
            "displayName": "",
            "userId": ""
          }
        },
        "outputId": "b272214e-4107-4386-b107-0a8d9f7569f9"
      },
      "id": "xIi7DYnRwZfI",
      "execution_count": 20,
      "outputs": [
        {
          "output_type": "stream",
          "name": "stdout",
          "text": [
            "Dwight D. Eisenhower was President of the United States in 1955. He belonged to the Republican Party.\n"
          ]
        }
      ]
    },
    {
      "cell_type": "code",
      "source": [
        "context = \"\"\"\n",
        "Storage and content policy \\n\n",
        "How durable is my data in Cloud Storage? \\n\n",
        "Cloud Storage is designed for 99.999999999% (11 9's) annual durability, which is appropriate for even primary storage and\n",
        "business-critical applications. This high durability level is achieved through erasure coding that stores data pieces redundantly\n",
        "across multiple devices located in multiple availability zones.\n",
        "Objects written to Cloud Storage must be redundantly stored in at least two different availability zones before the\n",
        "write is acknowledged as successful. Checksums are stored and regularly revalidated to proactively verify that the data\n",
        "integrity of all data at rest as well as to detect corruption of data in transit. If required, corrections are automatically\n",
        "made using redundant data. Customers can optionally enable object versioning to add protection against accidental deletion.\n",
        "\"\"\"\n",
        "\n",
        "question = \"How is high availability achieved?\"\n",
        "\n",
        "prompt = f\"\"\"Answer the question given in the contex below:\n",
        "Context: {context}?\\n\n",
        "Question: {question} \\n\n",
        "Answer:\n",
        "\"\"\"\n",
        "\n",
        "print(\"[Prompt]\")\n",
        "print(prompt)\n",
        "\n",
        "print(\"[Response]\")\n",
        "response = model.generate_content(contents=prompt, generation_config=predictable_gen_config)\n",
        "print(response.text)"
      ],
      "metadata": {
        "id": "2CVIidWDwd73",
        "executionInfo": {
          "status": "ok",
          "timestamp": 1729995338055,
          "user_tz": 180,
          "elapsed": 1319,
          "user": {
            "displayName": "",
            "userId": ""
          }
        },
        "outputId": "fd2d0344-9ed0-42b1-bff6-44a6aa783ebe",
        "colab": {
          "base_uri": "https://localhost:8080/"
        }
      },
      "id": "2CVIidWDwd73",
      "execution_count": 21,
      "outputs": [
        {
          "output_type": "stream",
          "name": "stdout",
          "text": [
            "[Prompt]\n",
            "Answer the question given in the contex below:\n",
            "Context: \n",
            "Storage and content policy \n",
            "\n",
            "How durable is my data in Cloud Storage? \n",
            "\n",
            "Cloud Storage is designed for 99.999999999% (11 9's) annual durability, which is appropriate for even primary storage and\n",
            "business-critical applications. This high durability level is achieved through erasure coding that stores data pieces redundantly\n",
            "across multiple devices located in multiple availability zones.\n",
            "Objects written to Cloud Storage must be redundantly stored in at least two different availability zones before the\n",
            "write is acknowledged as successful. Checksums are stored and regularly revalidated to proactively verify that the data\n",
            "integrity of all data at rest as well as to detect corruption of data in transit. If required, corrections are automatically\n",
            "made using redundant data. Customers can optionally enable object versioning to add protection against accidental deletion.\n",
            "?\n",
            "\n",
            "Question: How is high availability achieved? \n",
            "\n",
            "Answer:\n",
            "\n",
            "[Response]\n",
            "High availability is achieved through erasure coding that stores data pieces redundantly across multiple devices located in multiple availability zones. Objects written to Cloud Storage must be redundantly stored in at least two different availability zones before the write is acknowledged as successful. Checksums are stored and regularly revalidated to proactively verify that the data integrity of all data at rest as well as to detect corruption of data in transit. If required, corrections are automatically made using redundant data. Customers can optionally enable object versioning to add protection against accidental deletion.\n"
          ]
        }
      ]
    }
  ],
  "metadata": {
    "kernelspec": {
      "display_name": "Python 3",
      "language": "python",
      "name": "python3"
    },
    "language_info": {
      "codemirror_mode": {
        "name": "ipython",
        "version": 3
      },
      "file_extension": ".py",
      "mimetype": "text/x-python",
      "name": "python",
      "nbconvert_exporter": "python",
      "pygments_lexer": "ipython3",
      "version": "3.10.10"
    },
    "colab": {
      "provenance": [],
      "name": "student-01-779130338041 (Oct 26, 2024, 10:40:14 PM)"
    }
  },
  "nbformat": 4,
  "nbformat_minor": 5
}