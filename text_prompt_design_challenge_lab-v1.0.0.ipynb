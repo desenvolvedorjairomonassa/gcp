{
 "cells": [
  {
   "cell_type": "markdown",
   "metadata": {
    "id": "VEqbX8OhE8y9"
   },
   "source": [
    "# Text Prompt Design: Challenge Lab\n",
    "\n",
    "## Overview\n",
    "\n",
    "This challenge lab is designed to test your knowledge of calling Gemini and utilizing a few fundamental text prompt design techniques.\n",
    "\n",
    "Two featured guides on prompting from the Google Cloud documentation are:\n",
    "\n",
    "1. [Overview of prompting strategies](https://cloud.google.com/vertex-ai/generative-ai/docs/learn/prompts/prompt-design-strategies) from the Generative AI on Vertex AI documentation.\n",
    "\n",
    "2. [Prompt design strategies](https://ai.google.dev/gemini-api/docs/prompting-strategies) from the Gemini API documentation.\n",
    "\n",
    "Both contain good tips. You are encouraged to **bookmark them**.\n",
    "\n",
    "## Objective\n",
    "You will demonstrate your ability to:\n",
    "\n",
    "- Initialize Vertex AI in your environment\n",
    "- Load a generative model\n",
    "- Guide model output with a persona\n",
    "- Extract information to a schema\n",
    "- Stay on topic with fallback responses\n",
    "- Use examples to influence the model's response\n",
    "\n",
    "Some of the following Python notebook cells have missing or incomplete code sections and tasks that need to be completed, indicated by the code comments starting with `# TODO`. Your challenge is to complete each cell, run it to test for correctness, and then move on. When all the cells are working, you have completed the challenge.\n",
    "\n",
    "**Note:** If you need help, [this notebook demonstrates getting started using Gemini in Python](https://github.com/GoogleCloudPlatform/generative-ai/blob/main/gemini/getting-started/intro_gemini_python.ipynb)."
   ]
  },
  {
   "cell_type": "markdown",
   "metadata": {
    "id": "N5afkyDMSBW5"
   },
   "source": [
    "## Task 1. Install, import & initialize the Vertex AI SDK and a generative model\n",
    "\n",
    "1. Install the Vertex AI SDK."
   ]
  },
  {
   "cell_type": "code",
   "execution_count": 3,
   "metadata": {
    "id": "kc4WxYmLSBW5",
    "tags": []
   },
   "outputs": [],
   "source": [
    "# TODO: Complete the following pip command\n",
    "! pip3 install --upgrade --quiet google-cloud-aiplatform"
   ]
  },
  {
   "cell_type": "markdown",
   "metadata": {
    "id": "BuQwwRiniVFG"
   },
   "source": [
    "2. Restart your notebook kernel.\n",
    "3. Import the following:\n",
    "- the Vertex AI SDK\n",
    "- the class to instantiate a generative model from the Vertex AI generative models module"
   ]
  },
  {
   "cell_type": "code",
   "execution_count": 22,
   "metadata": {
    "id": "kpdnPWaTK27C",
    "tags": []
   },
   "outputs": [],
   "source": [
    "# TODO: Complete the imports\n",
    "import vertexai\n",
    "from vertexai.generative_models import GenerativeModel, GenerationConfig"
   ]
  },
  {
   "cell_type": "markdown",
   "metadata": {
    "id": "6Fom0ZkMSBW6"
   },
   "source": [
    "4. Initialize Vertex AI with your project ID and a location (you can use like `us-central1`)."
   ]
  },
  {
   "cell_type": "code",
   "execution_count": 24,
   "metadata": {
    "id": "LCaCx6PLSBW6",
    "tags": []
   },
   "outputs": [],
   "source": [
    "# TODO: Insert the required steps here\n",
    "# Replace 'your-project-id' with your actual project ID\n",
    "project_id = 'qwiklabs-gcp-03-99240bc40f2b'\n",
    "\n",
    "# Replace 'us-central1' with your desired location\n",
    "location = 'us-central1'\n",
    "\n",
    "# Initialize Vertex AI\n",
    "vertexai.init(project=project_id, location=location)"
   ]
  },
  {
   "cell_type": "markdown",
   "metadata": {
    "id": "O8DUcgKJK27C"
   },
   "source": [
    "5. Instantiate a generative model and save it to the `generative_model` variable. For this notebook, use `gemini-pro` as your model version. When instantiating the model, pass a `generation_config` parameter with the temperature set to 0."
   ]
  },
  {
   "cell_type": "code",
   "execution_count": 25,
   "metadata": {
    "id": "2998506fe6d1",
    "tags": []
   },
   "outputs": [],
   "source": [
    "# TODO: Insantiate a \"gemini-pro\" model with a configured temperature of 0.\n",
    "#Load a generative model gimini pro\n",
    "model = GenerativeModel(\"gemini-pro\")"
   ]
  },
  {
   "cell_type": "markdown",
   "metadata": {
    "id": "h3YN2rf1K27C"
   },
   "source": [
    "6. Complete the TODO's in this function, which you will use for the rest of the lab:"
   ]
  },
  {
   "cell_type": "code",
   "execution_count": 26,
   "metadata": {
    "id": "joXl2V2JK27D",
    "tags": []
   },
   "outputs": [],
   "source": [
    "def print_response(prompt):\n",
    "\n",
    "    # TODO: Complete this line to generate a response to the prompt:\n",
    "    creative_gen_config = GenerationConfig(temperature=1, top_p=0.8)\n",
    "    response = model.generate_content(prompt,generation_config=creative_gen_config)\n",
    "\n",
    "    # TODO: Complete this line to print only the text of the model's response,\n",
    "    # not the additional response metadata.\n",
    "    print(response.text)"
   ]
  },
  {
   "cell_type": "markdown",
   "metadata": {
    "id": "kEAJ0ipmbndQ"
   },
   "source": [
    "## Task 2. Personas\n",
    "\n",
    "1. Run the following cell to see the default response to this prompt.\n",
    "\n",
    "2. Then tweak the prompt by asking the model to take on the persona of an **energetic, inspiring personal trainer** who can get users **excited to work out their leg muscles**. Note the difference in vocabulary and tone."
   ]
  },
  {
   "cell_type": "code",
   "execution_count": 27,
   "metadata": {
    "id": "UEo0QhauK27D",
    "tags": []
   },
   "outputs": [
    {
     "name": "stdout",
     "output_type": "stream",
     "text": [
      "## Leg Exercises for All Levels:\n",
      "\n",
      "Whether you're a seasoned gym-goer or just starting your fitness journey, there are plenty of effective leg exercises to choose from. Here are some options, categorized by difficulty level:\n",
      "\n",
      "**Beginner:**\n",
      "\n",
      "* **Bodyweight Squats:** This classic exercise targets your quads, glutes, and hamstrings. Stand with your feet shoulder-width apart, toes slightly pointed outward. Lower your body as if sitting in a chair, keeping your back straight and core engaged. Return to the starting position.\n",
      "* **Lunges:** Lunges work your quads, glutes, hamstrings, and calves. Step forward with one leg, lowering your hips until both knees are bent at 90-degree angles. Keep your front knee aligned with your ankle and your back knee hovering just above the ground. Push off your front foot to return to the starting position. \n",
      "* **Calf Raises:** Stand on your toes with your heels lifted off the ground. Hold for a second before lowering back down. You can perform this exercise with your feet flat on the ground, on a slight incline, or even on a step for added difficulty.\n",
      "\n",
      "**Intermediate:**\n",
      "\n",
      "* **Weighted Squats:** Add weight to your bodyweight squats using dumbbells, a barbell, or a kettlebell. This increases the intensity and challenges your muscles further.\n",
      "* **Bulgarian Split Squats:** This single-leg variation of the lunge requires more balance and stability. Place one foot elevated on a bench or step behind you. Lower your body until your front knee is bent at a 90-degree angle and your back knee hovers just above the ground. Push off your front foot to return to the starting position.\n",
      "* **Pistol Squats:** This advanced exercise requires significant strength and balance. Stand on one leg and lower your body as if performing a single-leg squat. Keep your back straight and core engaged throughout the movement. \n",
      "\n",
      "**Advanced:**\n",
      "\n",
      "* **Barbell Deadlifts:** Deadlifts are a full-body exercise that heavily engages your legs, back, and core. Stand with your feet shoulder-width apart in front of a barbell. Hinge at your hips and bend your knees slightly to grasp the bar with an overhand grip. Keeping your back straight and core engaged, lift the bar off the ground by extending your hips and knees. Lower the bar back to the ground with control. \n",
      "* **Jump Squats:** This explosive exercise combines squats with plyometrics. Perform a regular squat, but instead of standing up, jump explosively and extend your arms overhead. Land softly and immediately transition into another squat.\n",
      "* **Box Jumps:** Stand in front of a sturdy box that is slightly below knee height. Squat down and explosively jump onto the box, landing softly with both feet. Step or jump back down to the starting position.\n",
      "\n",
      "**Remember:** \n",
      "\n",
      "* Always start with a proper warm-up to prepare your body for exercise.\n",
      "* Choose weights that are challenging but allow you to maintain good form throughout the movement.\n",
      "* Listen to your body and take rest days when needed.\n",
      "* Consider consulting a personal trainer if you're unsure about proper form or exercise selection.\n",
      "\n",
      "By incorporating these leg exercises into your workout routine, you'll build strength, improve your balance and coordination, and enhance your overall fitness level.\n"
     ]
    }
   ],
   "source": [
    "# TODO: Improve the personality of the response by assigning the suggested persona.\n",
    "prompt = \"What are some good leg exercises?\"\n",
    "\n",
    "print_response(prompt)"
   ]
  },
  {
   "cell_type": "markdown",
   "metadata": {
    "id": "ueKZMheeK27D"
   },
   "source": [
    "## Task 3. Be specific + constrain the output format\n",
    "\n",
    "1. Have the model convert the following text of cooking ingredients to a YAML format. Each ingredient should be listed as a dictionary with keys for **ingredient** and **quantity** populated with the correct value given the ingredients in the following recipe:"
   ]
  },
  {
   "cell_type": "code",
   "execution_count": 36,
   "metadata": {
    "id": "qyJASDrsK27D",
    "tags": []
   },
   "outputs": [
    {
     "name": "stdout",
     "output_type": "stream",
     "text": [
      "## Ingredients:\n",
      "\n",
      "```\n",
      "- ingredient: egg whites\n",
      "  quantity: 9\n",
      "- ingredient: Cream of Tartar\n",
      "  quantity: 3/8 tsp\n",
      "- ingredient: Vinegar\n",
      "  quantity: 1 1/2 tbs\n",
      "- ingredient: Vanilla\n",
      "  quantity: 1 1/2 tsp\n",
      "- ingredient: Sugar\n",
      "  quantity: 3 cups\n",
      "- ingredient: Heavy whipping cream\n",
      "  quantity: 1 quarts\n",
      "- ingredient: Strawberries\n",
      "  quantity: 3 boxes\n",
      "``` \n",
      "\n"
     ]
    }
   ],
   "source": [
    "# TODO: Write instructions to complete the task.\n",
    "instructions = \"\"\"you're a chef's assistant, you'll receive ingredientes and you will  convert the following text of cooking ingredients to a YAML format.\n",
    "Each ingredient should be listed as a dictionary with keys for ingredient and quantity populated with the correct value given the ingredients in\n",
    "the following recipe. You don't need write yaml \"\"\"\n",
    "\n",
    "ingredients = \"\"\"\n",
    "    Ingredients:\n",
    "    * 9 egg whites\n",
    "    * 3/8 tsp Cream of Tartar\n",
    "    * 1 1/2 tbs Vinegar\n",
    "    * 1 1/2 tsp Vanilla\n",
    "    * 3 cups Sugar\n",
    "    * 1 quarts Heavy whipping cream\n",
    "    * 3 boxes Strawberries\n",
    "    \"\"\"\n",
    "\n",
    "prompt = instructions + \"\\n\\n\" + ingredients\n",
    "\n",
    "print_response(prompt)"
   ]
  },
  {
   "cell_type": "markdown",
   "metadata": {
    "id": "6xRk8HTLK27D"
   },
   "source": [
    "## Task 4. Use a fallback response\n",
    "\n",
    "1. Adjust the prompt below to specify that the model should only answer questions related to historical landmarks. If a user askes about something else, the model should respond with the message: `Sorry, I only answer questions about historical landmarks!`\n",
    "\n",
    "2. Adjust your instructions until the model declines to answer the `user_query` below."
   ]
  },
  {
   "cell_type": "code",
   "execution_count": 32,
   "metadata": {
    "id": "6InaQ3OpK27D",
    "tags": []
   },
   "outputs": [
    {
     "name": "stdout",
     "output_type": "stream",
     "text": [
      "Sorry, I only answer questions about historical landmarks! I am not an expert on attracting butterflies to your garden. \n",
      "\n",
      "Here are some tips on attracting butterflies to your garden:\n",
      "\n",
      "* Plant a variety of flowers that bloom at different times of the year. Butterflies are attracted to colorful flowers, especially those with flat or tubular shapes.\n",
      "* Provide a source of nectar, such as a hummingbird feeder or shallow dish of sugar water.\n",
      "* Create a butterfly puddling area by providing a shallow dish of mud or sand. Butterflies need to drink water and minerals from the ground.\n",
      "* Plant host plants for butterfly caterpillars. This will provide a food source for the caterpillars and help to increase the butterfly population in your garden.\n",
      "* Avoid using pesticides in your garden. Pesticides can kill butterflies and their caterpillars.\n",
      "* Create a sheltered area for butterflies to rest and escape the sun or rain. This could be a bush, tree, or even a garden shed.\n",
      "* Be patient! It may take some time for butterflies to discover your garden.\n",
      "\n",
      "I hope this helps!\n"
     ]
    }
   ],
   "source": [
    "# TODO: Add instructions to prompt a fallback response for off-topic queries.\n",
    "\n",
    "instructions = \"\"\"You are a history tour guide. \n",
    "If a user asks about something else different about subject historical landmarks, reply with: Sorry, I only answer questions about historical landmarks!\n",
    "Answer the user's question: {user_query}. \n",
    "\"\"\"\n",
    "\n",
    "user_query = \"How can I attract butterflies to my garden?\"\n",
    "\n",
    "print_response(instructions.format(user_query=user_query))"
   ]
  },
  {
   "cell_type": "markdown",
   "metadata": {
    "id": "gFolKJjNK27D"
   },
   "source": [
    "## Task 5. Make results more specific with examples\n",
    "\n",
    "1. Run the code cell below to see the model's response as-is.\n",
    "\n",
    "2. Imagining you work for a bicycle tour company, modify each of the example outputs below to include a bicycle.\n",
    "\n",
    "3. Re-run the code cell to make sure the model generates a bicycle-themed response. Leave the instructions alone and tweak your examples until you get such a response."
   ]
  },
  {
   "cell_type": "code",
   "execution_count": 37,
   "metadata": {
    "id": "zsjp39ZWK27D",
    "tags": []
   },
   "outputs": [
    {
     "name": "stdout",
     "output_type": "stream",
     "text": [
      "Rent a bike and explore the lush greenery of Cubbon Park, admiring the Victorian-era architecture and enjoying a picnic lunch. \n",
      "\n"
     ]
    }
   ],
   "source": [
    "# TODO: Modify the examples below to guide the model to always generate\n",
    "# recommendations involving bicycles.\n",
    "\n",
    "prompt = \"\"\"\n",
    "    <INSTRUCTIONS>\n",
    "    Give a tourist recommendation for the input city.\n",
    "    </INSTRUCTIONS>\n",
    "\n",
    "  <EXAMPLES>\n",
    "    Input: Paris\n",
    "    Output: Rent a bike and Cycle along the Seine River, taking in the iconic Eiffel Tower and Notre Dame Cathedral.\n",
    "\n",
    "    Input: Washington D.C.\n",
    "    Output: Rent a bike and Bike to the Lincoln Memorial and the Washington Monument, exploring the National Mall.\n",
    "\n",
    "    Input: New York City\n",
    "    Output: Rent a bike and Cycle across the Brooklyn Bridge, enjoying stunning views of the Manhattan skyline.\n",
    "    </EXAMPLES>\n",
    "\n",
    "    <INPUT CITY>\n",
    "     Bangalore\n",
    "    </INPUT CITY>\"\"\"\n",
    "\n",
    "print_response(prompt)"
   ]
  },
  {
   "cell_type": "markdown",
   "metadata": {
    "id": "LvbIXnwqK27D"
   },
   "source": [
    "## Congratulations!\n",
    "\n",
    "If you have completed the steps above, you have demonstrated your ability to use several prompt engineering techniques."
   ]
  }
 ],
 "metadata": {
  "colab": {
   "name": "text_prompt_design_challenge_lab.ipynb",
   "provenance": [],
   "toc_visible": true
  },
  "environment": {
   "kernel": "conda-base-py",
   "name": "workbench-notebooks.m125",
   "type": "gcloud",
   "uri": "us-docker.pkg.dev/deeplearning-platform-release/gcr.io/workbench-notebooks:m125"
  },
  "kernelspec": {
   "display_name": "Python 3 (ipykernel) (Local) (Local)",
   "language": "python",
   "name": "conda-base-py"
  },
  "language_info": {
   "codemirror_mode": {
    "name": "ipython",
    "version": 3
   },
   "file_extension": ".py",
   "mimetype": "text/x-python",
   "name": "python",
   "nbconvert_exporter": "python",
   "pygments_lexer": "ipython3",
   "version": "3.10.15"
  }
 },
 "nbformat": 4,
 "nbformat_minor": 4
}
